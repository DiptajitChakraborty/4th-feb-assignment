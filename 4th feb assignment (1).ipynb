{
 "cells": [
  {
   "cell_type": "code",
   "execution_count": 24,
   "id": "bb7aabd4-a82f-4a11-b54d-064ad8e74950",
   "metadata": {},
   "outputs": [
    {
     "name": "stdout",
     "output_type": "stream",
     "text": [
      " Sorted scores:  None\n",
      "[('Virat Kohli', 24936), ('Ricky Ponting', 27483), ('Sachin Tendulkar', 34357)]\n"
     ]
    }
   ],
   "source": [
    "#Q1\n",
    "scores = [(\"Sachin Tendulkar\", 34357),(\"Ricky Ponting\",27483),(\"Virat Kohli\",24936)]\n",
    "print(\" Sorted scores: \",scores.sort(key = lambda x : x[1]))\n",
    "\n",
    "print(scores)"
   ]
  },
  {
   "cell_type": "code",
   "execution_count": 27,
   "id": "ac288c9f-4455-4f1c-a17f-e94f77169b04",
   "metadata": {},
   "outputs": [
    {
     "data": {
      "text/plain": [
       "[1, 4, 9, 16, 25, 36, 49, 64, 81, 100]"
      ]
     },
     "execution_count": 27,
     "metadata": {},
     "output_type": "execute_result"
    }
   ],
   "source": [
    "#Q2\n",
    "l = [1,2,3,4,5,6,7,8,9,10]\n",
    "list(map(lambda x : x**2 , l))"
   ]
  },
  {
   "cell_type": "code",
   "execution_count": 28,
   "id": "cd8b6ad6-9b25-425b-8ead-775d4b072bb9",
   "metadata": {},
   "outputs": [
    {
     "data": {
      "text/plain": [
       "('1', '2', '3', '4', '5', '6', '7', '8', '9', '10')"
      ]
     },
     "execution_count": 28,
     "metadata": {},
     "output_type": "execute_result"
    }
   ],
   "source": [
    "#Q3\n",
    "l = [1,2,3,4,5,6,7,8,9,10]\n",
    "tuple(map(lambda x : str(x) , l))"
   ]
  },
  {
   "cell_type": "code",
   "execution_count": 30,
   "id": "7b60fdb9-4e40-435a-a4cd-f65733fef83e",
   "metadata": {},
   "outputs": [],
   "source": [
    "from functools import reduce"
   ]
  },
  {
   "cell_type": "code",
   "execution_count": 31,
   "id": "12b6252e-fafe-4d20-9624-b9b932a6be5f",
   "metadata": {},
   "outputs": [
    {
     "data": {
      "text/plain": [
       "15511210043330985984000000"
      ]
     },
     "execution_count": 31,
     "metadata": {},
     "output_type": "execute_result"
    }
   ],
   "source": [
    "#Q4\n",
    "l = list(range(1,26))\n",
    "reduce( lambda x,y : x*y , l)"
   ]
  },
  {
   "cell_type": "code",
   "execution_count": 35,
   "id": "e1833bd0-655d-4e1c-b3c7-13bea6c1f660",
   "metadata": {},
   "outputs": [
    {
     "data": {
      "text/plain": [
       "[6, 60, 90, 120]"
      ]
     },
     "execution_count": 35,
     "metadata": {},
     "output_type": "execute_result"
    }
   ],
   "source": [
    "#Q5\n",
    "l = [2,3,6,9,27,60,90,120,55,46]\n",
    "list(filter( lambda x :  x%2==0 and x%3==0  ,l))"
   ]
  },
  {
   "cell_type": "code",
   "execution_count": 4,
   "id": "6e0cb592-ab70-490a-90ac-5fcafb1d7caf",
   "metadata": {},
   "outputs": [
    {
     "data": {
      "text/plain": [
       "['php', 'aba', 'radar', 'level']"
      ]
     },
     "execution_count": 4,
     "metadata": {},
     "output_type": "execute_result"
    }
   ],
   "source": [
    "#Q6\n",
    "l = ['python','php','aba','radar','level']\n",
    "list(filter(lambda x : x == x[::-1],l )) "
   ]
  },
  {
   "cell_type": "code",
   "execution_count": null,
   "id": "8eea8cf4-387e-4ccd-8590-6e989b2aadb2",
   "metadata": {},
   "outputs": [],
   "source": []
  }
 ],
 "metadata": {
  "kernelspec": {
   "display_name": "Python 3 (ipykernel)",
   "language": "python",
   "name": "python3"
  },
  "language_info": {
   "codemirror_mode": {
    "name": "ipython",
    "version": 3
   },
   "file_extension": ".py",
   "mimetype": "text/x-python",
   "name": "python",
   "nbconvert_exporter": "python",
   "pygments_lexer": "ipython3",
   "version": "3.10.8"
  }
 },
 "nbformat": 4,
 "nbformat_minor": 5
}
